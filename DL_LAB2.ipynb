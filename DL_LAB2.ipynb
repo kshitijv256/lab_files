{
  "nbformat": 4,
  "nbformat_minor": 0,
  "metadata": {
    "colab": {
      "provenance": [],
      "authorship_tag": "ABX9TyOF+2o2vK8oiC3SLn1cmRYh",
      "include_colab_link": true
    },
    "kernelspec": {
      "name": "python3",
      "display_name": "Python 3"
    },
    "language_info": {
      "name": "python"
    }
  },
  "cells": [
    {
      "cell_type": "markdown",
      "metadata": {
        "id": "view-in-github",
        "colab_type": "text"
      },
      "source": [
        "<a href=\"https://colab.research.google.com/github/kshitijv256/lab_files/blob/main/DL_LAB2.ipynb\" target=\"_parent\"><img src=\"https://colab.research.google.com/assets/colab-badge.svg\" alt=\"Open In Colab\"/></a>"
      ]
    },
    {
      "cell_type": "code",
      "execution_count": null,
      "metadata": {
        "id": "gJLgpCsjfPu7"
      },
      "outputs": [],
      "source": [
        "import pandas as pd\n",
        "import numpy as np\n",
        "import matplotlib.pyplot as plt\n",
        "import random as r"
      ]
    },
    {
      "cell_type": "code",
      "source": [
        "df = pd.DataFrame({'x':[12, 20, 28, 18, 29, 33, 24, 45, 52, 51, 53, 55, 54, 65, 61, 67 , 69, 72,76],\n",
        "                   'y': [39, 36, 30, 52, 54, 46, 55, 59, 63, 70, 66, 53, 58, 23, 14, 8, 19, 7, 78]})"
      ],
      "metadata": {
        "id": "otuNw8Flfa9e"
      },
      "execution_count": null,
      "outputs": []
    },
    {
      "cell_type": "code",
      "source": [
        "# p1 = r.randint(0,19)\n",
        "# x1 = df['x'][p1]\n",
        "# y1 = df['y'][p1]\n",
        "\n",
        "# p2 = r.randint(0,19)\n",
        "# x2 = df['x'][p2]\n",
        "# y2 = df['y'][p2]\n"
      ],
      "metadata": {
        "id": "TePFmlXohBOV"
      },
      "execution_count": null,
      "outputs": []
    },
    {
      "cell_type": "code",
      "source": [
        "# def dist(x1,y1,x2,y2):\n",
        "#   return abs(x2-x1)+abs(y2-y1)"
      ],
      "metadata": {
        "id": "69bUpld9hznJ"
      },
      "execution_count": null,
      "outputs": []
    },
    {
      "cell_type": "code",
      "source": [],
      "metadata": {
        "id": "AbskYFiSkKxl"
      },
      "execution_count": null,
      "outputs": []
    },
    {
      "cell_type": "code",
      "source": [
        "# k1 = []\n",
        "# k2 = []\n",
        "# for i in range(19):\n",
        "#   if dist(df['x'][i],x1,df['y'][i],y1) >= dist(df['x'][i],x2,df['y'][i],y2):\n",
        "#     k1.add()"
      ],
      "metadata": {
        "id": "S1Qb9DC9imon"
      },
      "execution_count": null,
      "outputs": []
    },
    {
      "cell_type": "code",
      "source": [
        "from sklearn.cluster import KMeans"
      ],
      "metadata": {
        "id": "RMw4MLPSkmlC"
      },
      "execution_count": null,
      "outputs": []
    },
    {
      "cell_type": "code",
      "source": [
        "kmeans = KMeans(n_clusters=3)"
      ],
      "metadata": {
        "id": "LQoDBh0Fk6o9"
      },
      "execution_count": null,
      "outputs": []
    },
    {
      "cell_type": "code",
      "source": [
        "kmeans.fit(df)"
      ],
      "metadata": {
        "colab": {
          "base_uri": "https://localhost:8080/"
        },
        "id": "XJcsSjEWl8gM",
        "outputId": "ca07b3dd-c8fd-43ba-f8cd-86c6eb6be871"
      },
      "execution_count": null,
      "outputs": [
        {
          "output_type": "execute_result",
          "data": {
            "text/plain": [
              "KMeans(n_clusters=3)"
            ]
          },
          "metadata": {},
          "execution_count": 16
        }
      ]
    },
    {
      "cell_type": "code",
      "source": [
        "res = kmeans.predict(df)"
      ],
      "metadata": {
        "id": "LQyO9nArmcJP"
      },
      "execution_count": null,
      "outputs": []
    },
    {
      "cell_type": "code",
      "source": [
        "res"
      ],
      "metadata": {
        "colab": {
          "base_uri": "https://localhost:8080/"
        },
        "id": "VHY4rfEjmDdP",
        "outputId": "daa1d754-cc29-4a17-8569-0c7bddab52b6"
      },
      "execution_count": null,
      "outputs": [
        {
          "output_type": "execute_result",
          "data": {
            "text/plain": [
              "array([2, 2, 2, 2, 2, 2, 2, 1, 1, 1, 1, 1, 1, 0, 0, 0, 0, 0, 1],\n",
              "      dtype=int32)"
            ]
          },
          "metadata": {},
          "execution_count": 20
        }
      ]
    },
    {
      "cell_type": "code",
      "source": [
        "colors = [\"#4EACC5\", \"#FF9C34\", \"#4E9A06\"]\n",
        "for i in range(19):\n",
        "  plt.plot(df['x'][i],df['y'][i], \"w\", markerfacecolor=colors[res[i]], marker=\".\", markersize=20)"
      ],
      "metadata": {
        "colab": {
          "base_uri": "https://localhost:8080/",
          "height": 265
        },
        "id": "Sh7_JfyunoDG",
        "outputId": "c4139b0c-c7be-4e29-c647-9b23ec5b8288"
      },
      "execution_count": null,
      "outputs": [
        {
          "output_type": "display_data",
          "data": {
            "text/plain": [
              "<Figure size 432x288 with 1 Axes>"
            ],
            "image/png": "[encoded data removed]"
          },
          "metadata": {
            "needs_background": "light"
          }
        }
      ]
    },
    {
      "cell_type": "code",
      "source": [],
      "metadata": {
        "id": "adj9XpwotKty"
      },
      "execution_count": null,
      "outputs": []
    }
  ]
}